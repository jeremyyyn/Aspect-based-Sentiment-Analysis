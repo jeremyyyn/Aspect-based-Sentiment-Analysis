{
 "cells": [
  {
   "cell_type": "code",
   "execution_count": 3,
   "id": "77412429",
   "metadata": {
    "colab": {
     "base_uri": "https://localhost:8080/",
     "height": 363
    },
    "executionInfo": {
     "elapsed": 3045,
     "status": "ok",
     "timestamp": 1682945558189,
     "user": {
      "displayName": "Z L",
      "userId": "17366950210362758645"
     },
     "user_tz": -480
    },
    "id": "77412429",
    "outputId": "4f718802-63e9-496e-b37b-0e090f20d8bc"
   },
   "outputs": [
    {
     "data": {
      "text/html": [
       "<div>\n",
       "<style scoped>\n",
       "    .dataframe tbody tr th:only-of-type {\n",
       "        vertical-align: middle;\n",
       "    }\n",
       "\n",
       "    .dataframe tbody tr th {\n",
       "        vertical-align: top;\n",
       "    }\n",
       "\n",
       "    .dataframe thead th {\n",
       "        text-align: right;\n",
       "    }\n",
       "</style>\n",
       "<table border=\"1\" class=\"dataframe\">\n",
       "  <thead>\n",
       "    <tr style=\"text-align: right;\">\n",
       "      <th></th>\n",
       "      <th>review</th>\n",
       "      <th>sentiment</th>\n",
       "    </tr>\n",
       "  </thead>\n",
       "  <tbody>\n",
       "    <tr>\n",
       "      <th>32241</th>\n",
       "      <td>This movie is nothing like \"Office Space\" exce...</td>\n",
       "      <td>negative</td>\n",
       "    </tr>\n",
       "    <tr>\n",
       "      <th>44471</th>\n",
       "      <td>I first saw this film in the theater way back ...</td>\n",
       "      <td>positive</td>\n",
       "    </tr>\n",
       "    <tr>\n",
       "      <th>3038</th>\n",
       "      <td>i really love this movie , i saw it for the fi...</td>\n",
       "      <td>positive</td>\n",
       "    </tr>\n",
       "    <tr>\n",
       "      <th>14445</th>\n",
       "      <td>Oh the hilarity! Oh the joy! Another film that...</td>\n",
       "      <td>negative</td>\n",
       "    </tr>\n",
       "    <tr>\n",
       "      <th>9456</th>\n",
       "      <td>Hoot is the best movie. go and see it if you h...</td>\n",
       "      <td>positive</td>\n",
       "    </tr>\n",
       "    <tr>\n",
       "      <th>3937</th>\n",
       "      <td>This documentary has been aired on both RTE an...</td>\n",
       "      <td>positive</td>\n",
       "    </tr>\n",
       "    <tr>\n",
       "      <th>4020</th>\n",
       "      <td>black tar can't be snorted there's a documenta...</td>\n",
       "      <td>positive</td>\n",
       "    </tr>\n",
       "    <tr>\n",
       "      <th>37720</th>\n",
       "      <td>In a phrase, moral ambiguity. In the Soderberg...</td>\n",
       "      <td>positive</td>\n",
       "    </tr>\n",
       "    <tr>\n",
       "      <th>15754</th>\n",
       "      <td>I loved this film, Independent film-making at ...</td>\n",
       "      <td>positive</td>\n",
       "    </tr>\n",
       "    <tr>\n",
       "      <th>36103</th>\n",
       "      <td>Goldie Hawn's depiction of a simple young lady...</td>\n",
       "      <td>positive</td>\n",
       "    </tr>\n",
       "  </tbody>\n",
       "</table>\n",
       "</div>"
      ],
      "text/plain": [
       "                                                  review sentiment\n",
       "32241  This movie is nothing like \"Office Space\" exce...  negative\n",
       "44471  I first saw this film in the theater way back ...  positive\n",
       "3038   i really love this movie , i saw it for the fi...  positive\n",
       "14445  Oh the hilarity! Oh the joy! Another film that...  negative\n",
       "9456   Hoot is the best movie. go and see it if you h...  positive\n",
       "3937   This documentary has been aired on both RTE an...  positive\n",
       "4020   black tar can't be snorted there's a documenta...  positive\n",
       "37720  In a phrase, moral ambiguity. In the Soderberg...  positive\n",
       "15754  I loved this film, Independent film-making at ...  positive\n",
       "36103  Goldie Hawn's depiction of a simple young lady...  positive"
      ]
     },
     "execution_count": 3,
     "metadata": {},
     "output_type": "execute_result"
    }
   ],
   "source": [
    "import pandas as pd\n",
    "\n",
    "data = pd.read_csv(\"IMDB Dataset.csv\", on_bad_lines='skip')\n",
    "data.sample(n=10)"
   ]
  },
  {
   "cell_type": "code",
   "execution_count": 4,
   "id": "1bc6a8b0",
   "metadata": {
    "colab": {
     "base_uri": "https://localhost:8080/",
     "height": 363
    },
    "executionInfo": {
     "elapsed": 633,
     "status": "ok",
     "timestamp": 1682945563139,
     "user": {
      "displayName": "Z L",
      "userId": "17366950210362758645"
     },
     "user_tz": -480
    },
    "id": "1bc6a8b0",
    "outputId": "0ee8107f-6271-4728-c459-ac8b443b50d0"
   },
   "outputs": [
    {
     "data": {
      "text/html": [
       "<div>\n",
       "<style scoped>\n",
       "    .dataframe tbody tr th:only-of-type {\n",
       "        vertical-align: middle;\n",
       "    }\n",
       "\n",
       "    .dataframe tbody tr th {\n",
       "        vertical-align: top;\n",
       "    }\n",
       "\n",
       "    .dataframe thead th {\n",
       "        text-align: right;\n",
       "    }\n",
       "</style>\n",
       "<table border=\"1\" class=\"dataframe\">\n",
       "  <thead>\n",
       "    <tr style=\"text-align: right;\">\n",
       "      <th></th>\n",
       "      <th>review</th>\n",
       "      <th>sentiment</th>\n",
       "      <th>label</th>\n",
       "    </tr>\n",
       "  </thead>\n",
       "  <tbody>\n",
       "    <tr>\n",
       "      <th>19189</th>\n",
       "      <td>A strangely enjoyable effort, combining an app...</td>\n",
       "      <td>positive</td>\n",
       "      <td>1</td>\n",
       "    </tr>\n",
       "    <tr>\n",
       "      <th>39638</th>\n",
       "      <td>\"Jake Speed\" is a fine movie with a wonderful ...</td>\n",
       "      <td>positive</td>\n",
       "      <td>1</td>\n",
       "    </tr>\n",
       "    <tr>\n",
       "      <th>40462</th>\n",
       "      <td>This review is based on the dubbed Shock-o-Ram...</td>\n",
       "      <td>negative</td>\n",
       "      <td>0</td>\n",
       "    </tr>\n",
       "    <tr>\n",
       "      <th>25581</th>\n",
       "      <td>Not to mention easily Pierce Brosnon's best pe...</td>\n",
       "      <td>positive</td>\n",
       "      <td>1</td>\n",
       "    </tr>\n",
       "    <tr>\n",
       "      <th>11224</th>\n",
       "      <td>This film was just on two nights running on IT...</td>\n",
       "      <td>negative</td>\n",
       "      <td>0</td>\n",
       "    </tr>\n",
       "    <tr>\n",
       "      <th>27260</th>\n",
       "      <td>William Hurt scuba diving scientist??? US agen...</td>\n",
       "      <td>negative</td>\n",
       "      <td>0</td>\n",
       "    </tr>\n",
       "    <tr>\n",
       "      <th>44599</th>\n",
       "      <td>In the mid 1800s, Irishman Dennis Hopper (as D...</td>\n",
       "      <td>negative</td>\n",
       "      <td>0</td>\n",
       "    </tr>\n",
       "    <tr>\n",
       "      <th>1662</th>\n",
       "      <td>Wonderful film that mixes documentary and fict...</td>\n",
       "      <td>positive</td>\n",
       "      <td>1</td>\n",
       "    </tr>\n",
       "    <tr>\n",
       "      <th>35416</th>\n",
       "      <td>One of Alfred Hitchcock's three greatest films...</td>\n",
       "      <td>positive</td>\n",
       "      <td>1</td>\n",
       "    </tr>\n",
       "    <tr>\n",
       "      <th>47292</th>\n",
       "      <td>CORRIDORS OF BLOOD &lt;br /&gt;&lt;br /&gt;Aspect ratio: 1...</td>\n",
       "      <td>negative</td>\n",
       "      <td>0</td>\n",
       "    </tr>\n",
       "  </tbody>\n",
       "</table>\n",
       "</div>"
      ],
      "text/plain": [
       "                                                  review sentiment label\n",
       "19189  A strangely enjoyable effort, combining an app...  positive     1\n",
       "39638  \"Jake Speed\" is a fine movie with a wonderful ...  positive     1\n",
       "40462  This review is based on the dubbed Shock-o-Ram...  negative     0\n",
       "25581  Not to mention easily Pierce Brosnon's best pe...  positive     1\n",
       "11224  This film was just on two nights running on IT...  negative     0\n",
       "27260  William Hurt scuba diving scientist??? US agen...  negative     0\n",
       "44599  In the mid 1800s, Irishman Dennis Hopper (as D...  negative     0\n",
       "1662   Wonderful film that mixes documentary and fict...  positive     1\n",
       "35416  One of Alfred Hitchcock's three greatest films...  positive     1\n",
       "47292  CORRIDORS OF BLOOD <br /><br />Aspect ratio: 1...  negative     0"
      ]
     },
     "execution_count": 4,
     "metadata": {},
     "output_type": "execute_result"
    }
   ],
   "source": [
    "data['label'] = data['sentiment'].replace(['positive', 'negative'],['1', '0'])\n",
    "data.sample(n=10)"
   ]
  },
  {
   "cell_type": "code",
   "execution_count": 5,
   "id": "032a1254",
   "metadata": {
    "colab": {
     "base_uri": "https://localhost:8080/"
    },
    "executionInfo": {
     "elapsed": 789,
     "status": "ok",
     "timestamp": 1682945569779,
     "user": {
      "displayName": "Z L",
      "userId": "17366950210362758645"
     },
     "user_tz": -480
    },
    "id": "032a1254",
    "outputId": "9761a812-1c74-4134-e9b2-c8af55f61780"
   },
   "outputs": [
    {
     "data": {
      "text/plain": [
       "label\n",
       "1    25000\n",
       "0    25000\n",
       "Name: count, dtype: int64"
      ]
     },
     "execution_count": 5,
     "metadata": {},
     "output_type": "execute_result"
    }
   ],
   "source": [
    "data['label'].value_counts()"
   ]
  },
  {
   "cell_type": "code",
   "execution_count": 6,
   "id": "77e015d1",
   "metadata": {},
   "outputs": [],
   "source": [
    "data.to_csv('IMDB_Dataset_label.csv')"
   ]
  },
  {
   "cell_type": "code",
   "execution_count": 7,
   "id": "yOlhDJk7V7w2",
   "metadata": {
    "colab": {
     "base_uri": "https://localhost:8080/"
    },
    "executionInfo": {
     "elapsed": 528,
     "status": "ok",
     "timestamp": 1682928573496,
     "user": {
      "displayName": "Z L",
      "userId": "17366950210362758645"
     },
     "user_tz": -480
    },
    "id": "yOlhDJk7V7w2",
    "outputId": "85a99506-1b69-4128-b38c-0daccb1740b3"
   },
   "outputs": [
    {
     "name": "stderr",
     "output_type": "stream",
     "text": [
      "[nltk_data] Downloading package stopwords to\n",
      "[nltk_data]     C:\\Users\\jerem\\AppData\\Roaming\\nltk_data...\n",
      "[nltk_data]   Package stopwords is already up-to-date!\n",
      "[nltk_data] Downloading package punkt to\n",
      "[nltk_data]     C:\\Users\\jerem\\AppData\\Roaming\\nltk_data...\n",
      "[nltk_data]   Package punkt is already up-to-date!\n",
      "[nltk_data] Downloading package wordnet to\n",
      "[nltk_data]     C:\\Users\\jerem\\AppData\\Roaming\\nltk_data...\n",
      "[nltk_data]   Package wordnet is already up-to-date!\n"
     ]
    }
   ],
   "source": [
    "#Text Preprocessing for sentiment analysis\n",
    "import string\n",
    "import emoji\n",
    "import re\n",
    "import nltk\n",
    "from textblob import TextBlob\n",
    "from nltk.corpus import wordnet\n",
    "from nltk.metrics import edit_distance\n",
    "from nltk.stem.porter import PorterStemmer\n",
    "from nltk.tokenize import word_tokenize\n",
    "import pandas as pd\n",
    "\n",
    "nltk.download(['stopwords', 'punkt', 'wordnet'])\n",
    "\n",
    "stopwords = nltk.corpus.stopwords.words('english')"
   ]
  },
  {
   "cell_type": "code",
   "execution_count": 8,
   "id": "1a20d168",
   "metadata": {
    "executionInfo": {
     "elapsed": 611,
     "status": "ok",
     "timestamp": 1682928583220,
     "user": {
      "displayName": "Z L",
      "userId": "17366950210362758645"
     },
     "user_tz": -480
    },
    "id": "1a20d168"
   },
   "outputs": [],
   "source": [
    "def preprocess(text):\n",
    "    \n",
    "    #1. Generating the list of words in the tweet (hastags and other punctuations removed)\n",
    "    text_blob = TextBlob(text)\n",
    "    text = ' '.join(text_blob.words)\n",
    "    \n",
    "    #2. clean the number \n",
    "    text = re.sub(r'[0-9]', '', text)\n",
    "    \n",
    "    #3. lower the text\n",
    "    text = text.lower()\n",
    "    \n",
    "    #4. convert the emoji to text form\n",
    "    text = emoji.demojize(text)\n",
    "    \n",
    "    #5. remove punctuation \n",
    "    for punctuation in string.punctuation:\n",
    "        text = text.replace(punctuation, '')\n",
    "    \n",
    "    #6. tokenize the text\n",
    "    text = word_tokenize(text)\n",
    "    \n",
    "    #7. remove empty token\n",
    "    text = [t for t in text if len(t) > 0]\n",
    "    \n",
    "    #8. remove non-alphabetical token\n",
    "    text = [t for t in text if t.isalpha()]\n",
    "    \n",
    "    #9. replace the negation token\n",
    "    replacer  = AntonymReplacer()\n",
    "    text = replacer.replace_negations(text)\n",
    "    \n",
    "    #10. remove the stopwords\n",
    "    text = [i for i in text if i not in stopwords]\n",
    "    \n",
    "    #11. stem the text\n",
    "    porter_stemmer = PorterStemmer()\n",
    "    text = [porter_stemmer.stem(w) for w in text]\n",
    "    \n",
    "    return text\n",
    "\n",
    "class AntonymReplacer(object):\n",
    "    def replace(self, word, pos=None):\n",
    "        antonyms = set()\n",
    "\n",
    "        for syn in wordnet.synsets(word, pos=pos):\n",
    "            for lemma in syn.lemmas():\n",
    "                for antonym in lemma.antonyms():\n",
    "                    antonyms.add(antonym.name())\n",
    "\n",
    "        if len(antonyms) == 1:\n",
    "            return antonyms.pop()\n",
    "        else:\n",
    "            return None\n",
    "\n",
    "    def replace_negations(self, sent):\n",
    "        i, l = 0, len(sent)\n",
    "        words = []\n",
    "\n",
    "        while i < l:\n",
    "            word = sent[i]\n",
    "\n",
    "            if word == 'not' and i+1 < l:\n",
    "                ant = self.replace(sent[i+1])\n",
    "\n",
    "                if ant:\n",
    "                    words.append(ant)\n",
    "                    i += 2\n",
    "                    continue\n",
    "\n",
    "            words.append(word)\n",
    "            i += 1\n",
    "\n",
    "        return words"
   ]
  },
  {
   "cell_type": "code",
   "execution_count": 9,
   "id": "a40e6a3a",
   "metadata": {
    "colab": {
     "base_uri": "https://localhost:8080/"
    },
    "executionInfo": {
     "elapsed": 2155,
     "status": "ok",
     "timestamp": 1682928587273,
     "user": {
      "displayName": "Z L",
      "userId": "17366950210362758645"
     },
     "user_tz": -480
    },
    "id": "a40e6a3a",
    "outputId": "2a9e44d1-f595-4582-e44b-deafd18ed493"
   },
   "outputs": [
    {
     "name": "stdout",
     "output_type": "stream",
     "text": [
      "So im not a big fan of Boll's work but then again not many are. I enjoyed his movie Postal (maybe im the only one). Boll apparently bought the rights to use Far Cry long ago even before the game itself was even finsished. <br /><br />People who have enjoyed killing mercs and infiltrating secret research labs located on a tropical island should be warned, that this is not Far Cry... This is something Mr Boll have schemed together along with his legion of schmucks.. Feeling loneley on the set Mr Boll invites three of his countrymen to play with. These players go by the names of Til Schweiger, Udo Kier and Ralf Moeller.<br /><br />Three names that actually have made them selfs pretty big in the movie biz. So the tale goes like this, Jack Carver played by Til Schweiger (yes Carver is German all hail the bratwurst eating dudes!!) However I find that Tils acting in this movie is pretty badass.. People have complained about how he's not really staying true to the whole Carver agenda but we only saw carver in a first person perspective so we don't really know what he looked like when he was kicking a**.. <br /><br />However, the storyline in this film is beyond demented. We see the evil mad scientist Dr. Krieger played by Udo Kier, making Genetically-Mutated-soldiers or GMS as they are called. Performing his top-secret research on an island that reminds me of \"SPOILER\" Vancouver for some reason. Thats right no palm trees here. Instead we got some nice rich lumberjack-woods. We haven't even gone FAR before I started to CRY (mehehe) I cannot go on any more.. If you wanna stay true to Bolls shenanigans then go and see this movie you will not be disappointed it delivers the true Boll experience, meaning most of it will suck.<br /><br />There are some things worth mentioning that would imply that Boll did a good work on some areas of the film such as some nice boat and fighting scenes. Until the whole cromed/albino GMS squad enters the scene and everything just makes me laugh.. The movie Far Cry reeks of scheisse (that's poop for you simpletons) from a fa,r if you wanna take a wiff go ahead.. BTW Carver gets a very annoying sidekick who makes you wanna shoot him the first three minutes he's on screen.\n",
      "['im', 'big', 'fan', 'boll', 'work', 'enjoy', 'movi', 'postal', 'mayb', 'im', 'one', 'boll', 'appar', 'bought', 'right', 'use', 'far', 'cri', 'long', 'ago', 'even', 'game', 'even', 'finsish', 'br', 'br', 'peopl', 'enjoy', 'kill', 'merc', 'infiltr', 'secret', 'research', 'lab', 'locat', 'tropic', 'island', 'warn', 'near', 'cri', 'someth', 'mr', 'boll', 'scheme', 'togeth', 'along', 'legion', 'schmuck', 'feel', 'loneley', 'set', 'mr', 'boll', 'invit', 'three', 'countrymen', 'play', 'player', 'go', 'name', 'til', 'schweiger', 'udo', 'kier', 'ralf', 'moeller', 'br', 'br', 'three', 'name', 'actual', 'made', 'self', 'pretti', 'big', 'movi', 'biz', 'tale', 'goe', 'like', 'jack', 'carver', 'play', 'til', 'schweiger', 'ye', 'carver', 'german', 'hail', 'bratwurst', 'eat', 'dude', 'howev', 'find', 'til', 'act', 'movi', 'pretti', 'badass', 'peopl', 'complain', 'realli', 'stay', 'true', 'whole', 'carver', 'agenda', 'saw', 'carver', 'first', 'person', 'perspect', 'nt', 'realli', 'know', 'look', 'like', 'kick', 'br', 'br', 'howev', 'storylin', 'film', 'beyond', 'dement', 'see', 'evil', 'mad', 'scientist', 'dr', 'krieger', 'play', 'udo', 'kier', 'make', 'geneticallymutatedsoldi', 'gm', 'call', 'perform', 'topsecret', 'research', 'island', 'remind', 'spoiler', 'vancouv', 'reason', 'that', 'right', 'palm', 'tree', 'instead', 'got', 'nice', 'rich', 'lumberjackwood', 'nt', 'even', 'gone', 'far', 'start', 'cri', 'meheh', 'go', 'wan', 'na', 'stay', 'true', 'boll', 'shenanigan', 'go', 'see', 'movi', 'differ', 'disappoint', 'deliv', 'true', 'boll', 'experi', 'mean', 'suck', 'br', 'br', 'thing', 'worth', 'mention', 'would', 'impli', 'boll', 'good', 'work', 'area', 'film', 'nice', 'boat', 'fight', 'scene', 'whole', 'cromedalbino', 'gm', 'squad', 'enter', 'scene', 'everyth', 'make', 'laugh', 'movi', 'far', 'cri', 'reek', 'scheiss', 'poop', 'simpleton', 'fa', 'r', 'wan', 'na', 'take', 'wiff', 'go', 'ahead', 'btw', 'carver', 'get', 'annoy', 'sidekick', 'make', 'wan', 'na', 'shoot', 'first', 'three', 'minut', 'screen']\n"
     ]
    }
   ],
   "source": [
    "print(data['review'].iloc[12])\n",
    "print(preprocess(data['review'].iloc[12]))"
   ]
  },
  {
   "cell_type": "code",
   "execution_count": 10,
   "id": "e812d24e",
   "metadata": {},
   "outputs": [],
   "source": [
    "BATCH_SIZE = 256\n",
    "# SENTIMENT\n",
    "POSITIVE = \"positive\"\n",
    "NEGATIVE = \"negative\"\n",
    "NEUTRAL = \"neutral\"\n",
    "SENTIMENT_THRESHOLDS = (0.4, 0.7)"
   ]
  },
  {
   "cell_type": "code",
   "execution_count": 11,
   "id": "16e6c0e3",
   "metadata": {},
   "outputs": [],
   "source": [
    "def decode_sentiment(score, include_neutral=True):\n",
    "    if include_neutral:        \n",
    "        label = NEUTRAL\n",
    "        if score <= SENTIMENT_THRESHOLDS[0]:\n",
    "            label = NEGATIVE\n",
    "        elif score >= SENTIMENT_THRESHOLDS[1]:\n",
    "            label = POSITIVE\n",
    "\n",
    "        return label\n",
    "    else:\n",
    "        return NEGATIVE if score < 0.5 else POSITIVE"
   ]
  },
  {
   "cell_type": "code",
   "execution_count": 12,
   "id": "3bd67260",
   "metadata": {},
   "outputs": [],
   "source": [
    "def predict(text, include_neutral=True):\n",
    "    start_at = time.time()\n",
    "    # Tokenize text\n",
    "    x_test = pad_sequences(tokenizer.texts_to_sequences([text]), maxlen=SEQUENCE_LENGTH)\n",
    "    # Predict\n",
    "    score = sg_model.predict([x_test])[0]\n",
    "    # Decode sentiment\n",
    "    label = decode_sentiment(score, include_neutral=include_neutral)\n",
    "\n",
    "    return {\"label\": label, \"score\": float(score),\n",
    "       \"elapsed_time\": time.time()-start_at}"
   ]
  },
  {
   "cell_type": "markdown",
   "id": "a898b186",
   "metadata": {},
   "source": [
    "### TFIDF Vectorizer"
   ]
  },
  {
   "cell_type": "code",
   "execution_count": 13,
   "id": "a66e9048",
   "metadata": {
    "executionInfo": {
     "elapsed": 835740,
     "status": "ok",
     "timestamp": 1682930171466,
     "user": {
      "displayName": "Z L",
      "userId": "17366950210362758645"
     },
     "user_tz": -480
    },
    "id": "a66e9048"
   },
   "outputs": [
    {
     "name": "stdout",
     "output_type": "stream",
     "text": [
      "CPU times: total: 10min 8s\n",
      "Wall time: 10min 53s\n"
     ]
    }
   ],
   "source": [
    "%%time\n",
    "from sklearn.feature_extraction.text import TfidfVectorizer\n",
    "\n",
    "vec1= TfidfVectorizer(\n",
    "    analyzer=preprocess,\n",
    "    max_df=0.8,\n",
    "    min_df=2,\n",
    "    sublinear_tf=True,\n",
    "    use_idf=True\n",
    ")\n",
    "\n",
    "tfidf_model = vec1.fit(data['review'])\n",
    "train_tfidf = vec1.transform(data['review'])"
   ]
  },
  {
   "cell_type": "code",
   "execution_count": 16,
   "id": "4a29ab5a",
   "metadata": {
    "executionInfo": {
     "elapsed": 461,
     "status": "ok",
     "timestamp": 1682938334664,
     "user": {
      "displayName": "Z L",
      "userId": "17366950210362758645"
     },
     "user_tz": -480
    },
    "id": "4a29ab5a"
   },
   "outputs": [],
   "source": [
    "import pickle\n",
    "\n",
    "#save vectorizer\n",
    "tfidf_vectorizer_file = 'tfidf_vectorizer.sav';\n",
    "pickle.dump(tfidf_model, open(tfidf_vectorizer_file, 'wb'))"
   ]
  },
  {
   "cell_type": "code",
   "execution_count": 17,
   "id": "319cef66",
   "metadata": {
    "executionInfo": {
     "elapsed": 699,
     "status": "ok",
     "timestamp": 1682934233703,
     "user": {
      "displayName": "Z L",
      "userId": "17366950210362758645"
     },
     "user_tz": -480
    },
    "id": "319cef66"
   },
   "outputs": [],
   "source": [
    "from sklearn.model_selection import train_test_split\n",
    "SEED = 4000\n",
    "\n",
    "tfidf_X_train, tfidf_X_test, tfidf_y_train, tfidf_y_test = train_test_split(train_tfidf, \n",
    "                                            data.label, test_size=0.2, random_state=SEED)"
   ]
  },
  {
   "cell_type": "code",
   "execution_count": 18,
   "id": "5cb0e317",
   "metadata": {
    "executionInfo": {
     "elapsed": 2120,
     "status": "ok",
     "timestamp": 1682939204942,
     "user": {
      "displayName": "Z L",
      "userId": "17366950210362758645"
     },
     "user_tz": -480
    },
    "id": "5cb0e317"
   },
   "outputs": [],
   "source": [
    "tfidf_vectorizer = 'tfidf_vectorizer.sav'\n",
    "loaded_tfidf_vectorizer = pickle.load(open(tfidf_vectorizer, 'rb'))#load save vectorizer"
   ]
  },
  {
   "cell_type": "markdown",
   "id": "7LXEuOEJ5hrg",
   "metadata": {
    "id": "7LXEuOEJ5hrg"
   },
   "source": [
    "## SVM-TFIDF"
   ]
  },
  {
   "cell_type": "code",
   "execution_count": 19,
   "id": "gV0FEvp65lmT",
   "metadata": {
    "executionInfo": {
     "elapsed": 3668417,
     "status": "ok",
     "timestamp": 1682943318272,
     "user": {
      "displayName": "Z L",
      "userId": "17366950210362758645"
     },
     "user_tz": -480
    },
    "id": "gV0FEvp65lmT"
   },
   "outputs": [],
   "source": [
    "from sklearn.metrics import confusion_matrix, classification_report, accuracy_score\n",
    "from sklearn.svm import SVC\n",
    "\n",
    "seed = 42\n",
    "tfidf_clf_svm = SVC(random_state=seed)\n",
    "\n",
    "tfidf_clf_svm.fit(tfidf_X_train, tfidf_y_train.values)\n",
    "tfidf_y_pred = tfidf_clf_svm.predict(tfidf_X_test)"
   ]
  },
  {
   "cell_type": "code",
   "execution_count": 20,
   "id": "NsUifFfTBRkM",
   "metadata": {
    "colab": {
     "base_uri": "https://localhost:8080/"
    },
    "executionInfo": {
     "elapsed": 1135,
     "status": "ok",
     "timestamp": 1682944695618,
     "user": {
      "displayName": "Z L",
      "userId": "17366950210362758645"
     },
     "user_tz": -480
    },
    "id": "NsUifFfTBRkM",
    "outputId": "64df0a90-c2d7-4b3f-d075-e9275b93e174"
   },
   "outputs": [
    {
     "name": "stdout",
     "output_type": "stream",
     "text": [
      "Accuracy: 0.8989\n"
     ]
    }
   ],
   "source": [
    "print(f'Accuracy: {accuracy_score(tfidf_y_test.values, tfidf_y_pred)}')"
   ]
  },
  {
   "cell_type": "code",
   "execution_count": 21,
   "id": "Bo_zslB4Uox6",
   "metadata": {
    "colab": {
     "base_uri": "https://localhost:8080/"
    },
    "executionInfo": {
     "elapsed": 1050,
     "status": "ok",
     "timestamp": 1682944809252,
     "user": {
      "displayName": "Z L",
      "userId": "17366950210362758645"
     },
     "user_tz": -480
    },
    "id": "Bo_zslB4Uox6",
    "outputId": "aa06fe9a-bc08-44c8-a5b6-9ca416decabd"
   },
   "outputs": [
    {
     "name": "stdout",
     "output_type": "stream",
     "text": [
      "Confusion matrix:\n",
      " [[4435  571]\n",
      " [ 440 4554]]\n"
     ]
    }
   ],
   "source": [
    "print(f'Confusion matrix:\\n {confusion_matrix(tfidf_y_test, tfidf_y_pred)}')"
   ]
  },
  {
   "cell_type": "code",
   "execution_count": 31,
   "id": "81ae454f",
   "metadata": {},
   "outputs": [],
   "source": [
    "import itertools\n",
    "\n",
    "def plot_confusion_matrix(cm, classes,\n",
    "                          title='Confusion matrix',\n",
    "                          cmap=plt.cm.Blues):\n",
    "    \"\"\"\n",
    "    This function prints and plots the confusion matrix.\n",
    "    Normalization can be applied by setting `normalize=True`.\n",
    "    \"\"\"\n",
    "\n",
    "    cm = cm.astype('float') / cm.sum(axis=1)[:, np.newaxis]\n",
    "\n",
    "    plt.imshow(cm, interpolation='nearest', cmap=cmap)\n",
    "    plt.title(title, fontsize=30)\n",
    "    plt.colorbar()\n",
    "    tick_marks = np.arange(len(classes))\n",
    "    plt.xticks(tick_marks, classes, rotation=90, fontsize=22)\n",
    "    plt.yticks(tick_marks, classes, fontsize=22)\n",
    "\n",
    "    fmt = '.2f'\n",
    "    thresh = cm.max() / 2.\n",
    "    for i, j in itertools.product(range(cm.shape[0]), range(cm.shape[1])):\n",
    "        plt.text(j, i, format(cm[i, j], fmt),\n",
    "                 horizontalalignment=\"center\",\n",
    "                 color=\"white\" if cm[i, j] > thresh else \"black\")\n",
    "\n",
    "    plt.ylabel('True label', fontsize=25)\n",
    "    plt.xlabel('Predicted label', fontsize=25)"
   ]
  },
  {
   "cell_type": "code",
   "execution_count": 32,
   "id": "b1e2b9f2",
   "metadata": {},
   "outputs": [
    {
     "data": {
      "image/png": "[encoded data removed]",
      "text/plain": [
       "<Figure size 1200x1200 with 2 Axes>"
      ]
     },
     "metadata": {},
     "output_type": "display_data"
    }
   ],
   "source": [
    "\n",
    "from sklearn.metrics import confusion_matrix, classification_report, accuracy_score\n",
    "import matplotlib.pyplot as plt\n",
    "\n",
    "cnf_matrix = confusion_matrix(tfidf_y_test, tfidf_y_pred)\n",
    "plt.figure(figsize=(12,12))\n",
    "plot_confusion_matrix(cnf_matrix, classes=np.unique(tfidf_y_train), title=\"Confusion matrix\")\n",
    "plt.show()"
   ]
  },
  {
   "cell_type": "code",
   "execution_count": 33,
   "id": "0bI1vNm7U6ZW",
   "metadata": {
    "executionInfo": {
     "elapsed": 750,
     "status": "ok",
     "timestamp": 1682944933947,
     "user": {
      "displayName": "Z L",
      "userId": "17366950210362758645"
     },
     "user_tz": -480
    },
    "id": "0bI1vNm7U6ZW"
   },
   "outputs": [],
   "source": [
    "pickle.dump(tfidf_clf_svm, open('SVMTFIDF.sav', 'wb'))"
   ]
  },
  {
   "cell_type": "code",
   "execution_count": 34,
   "id": "nQmkiikYVbqP",
   "metadata": {
    "executionInfo": {
     "elapsed": 717,
     "status": "ok",
     "timestamp": 1682944966132,
     "user": {
      "displayName": "Z L",
      "userId": "17366950210362758645"
     },
     "user_tz": -480
    },
    "id": "nQmkiikYVbqP"
   },
   "outputs": [],
   "source": [
    "filename1 = 'SVMTFIDF.sav' #load trained model\n",
    "loaded_tfidf_clf_svm = pickle.load(open(filename1, 'rb'))"
   ]
  },
  {
   "cell_type": "code",
   "execution_count": 35,
   "id": "8dbfb023",
   "metadata": {},
   "outputs": [
    {
     "name": "stdout",
     "output_type": "stream",
     "text": [
      "['provid', 'better', 'care', 'choic', 'lower', 'cost']\n"
     ]
    }
   ],
   "source": [
    "tweet = 'We are providing better care, and more choice, at lower cost.'\n",
    "preprocess_tweet = preprocess(tweet)\n",
    "print(preprocess_tweet)"
   ]
  },
  {
   "cell_type": "code",
   "execution_count": 36,
   "id": "f7ac3a45",
   "metadata": {},
   "outputs": [
    {
     "name": "stdout",
     "output_type": "stream",
     "text": [
      "\"positive\" has been predicted for the tweet: We are providing better care, and more choice, at lower cost.\n"
     ]
    }
   ],
   "source": [
    "# predict a label using SVM\n",
    "tweet_vec = loaded_tfidf_vectorizer.transform(pd.Series([tweet]))\n",
    "tweet_prediction = loaded_tfidf_clf_svm.predict(tweet_vec.toarray())\n",
    "tweet_prediction = 'positive' if tweet_prediction[0] == '1' else 'positive'\n",
    "print(f'\"{tweet_prediction}\" has been predicted for the tweet: {tweet}')"
   ]
  },
  {
   "cell_type": "markdown",
   "id": "361f4448",
   "metadata": {},
   "source": [
    "### Count Vectorizer"
   ]
  },
  {
   "cell_type": "code",
   "execution_count": 37,
   "id": "_dcg8P2PVqKc",
   "metadata": {
    "id": "_dcg8P2PVqKc"
   },
   "outputs": [],
   "source": [
    "from sklearn.feature_extraction.text import CountVectorizer\n",
    "\n",
    "vec2= CountVectorizer(\n",
    "    analyzer=preprocess,\n",
    "    max_df=0.8,\n",
    "    min_df=2,\n",
    ")\n",
    "\n",
    "count_model = vec2.fit(data['review'])\n",
    "train_count = vec2.transform(data['review'])\n"
   ]
  },
  {
   "cell_type": "code",
   "execution_count": 38,
   "id": "a497aab3",
   "metadata": {},
   "outputs": [],
   "source": [
    "import pickle\n",
    "\n",
    "#save vectorizer\n",
    "count_vectorizer_file = 'count_vectorizer.sav';\n",
    "pickle.dump(count_model, open(count_vectorizer_file, 'wb'))"
   ]
  },
  {
   "cell_type": "code",
   "execution_count": 39,
   "id": "449dc925",
   "metadata": {},
   "outputs": [],
   "source": [
    "from sklearn.model_selection import train_test_split\n",
    "SEED = 4000\n",
    "\n",
    "count_X_train, count_X_test, count_y_train, count_y_test = train_test_split(train_count, \n",
    "                                            data.label, test_size=0.2, random_state=SEED)"
   ]
  },
  {
   "cell_type": "code",
   "execution_count": 40,
   "id": "d5bb5888",
   "metadata": {},
   "outputs": [],
   "source": [
    "import pickle\n",
    "\n",
    "\n",
    "count_vectorizer = 'count_vectorizer.sav'\n",
    "loaded_count_vectorizer = pickle.load(open(count_vectorizer, 'rb'))#load save vectorizer"
   ]
  },
  {
   "cell_type": "markdown",
   "id": "bccc3a07",
   "metadata": {},
   "source": [
    "### SVM - Count"
   ]
  },
  {
   "cell_type": "code",
   "execution_count": 41,
   "id": "d3a60bf0",
   "metadata": {},
   "outputs": [],
   "source": [
    "from sklearn.svm import SVC\n",
    "\n",
    "seed = 42\n",
    "count_clf_svm = SVC(random_state=seed)\n",
    "\n",
    "count_clf_svm.fit(count_X_train, count_y_train.values)\n",
    "count_y_pred = count_clf_svm.predict(count_X_test)"
   ]
  },
  {
   "cell_type": "code",
   "execution_count": 42,
   "id": "86f0181f",
   "metadata": {},
   "outputs": [
    {
     "name": "stdout",
     "output_type": "stream",
     "text": [
      "Accuracy: 0.8797\n"
     ]
    }
   ],
   "source": [
    "print(f'Accuracy: {accuracy_score(count_y_test.values, count_y_pred)}')"
   ]
  },
  {
   "cell_type": "code",
   "execution_count": 43,
   "id": "470a382a",
   "metadata": {},
   "outputs": [
    {
     "name": "stdout",
     "output_type": "stream",
     "text": [
      "Confusion matrix:\n",
      " [[4282  724]\n",
      " [ 479 4515]]\n"
     ]
    }
   ],
   "source": [
    "print(f'Confusion matrix:\\n {confusion_matrix(count_y_test, count_y_pred)}')"
   ]
  },
  {
   "cell_type": "code",
   "execution_count": 44,
   "id": "6a53cb44",
   "metadata": {},
   "outputs": [
    {
     "data": {
      "image/png": "[encoded data removed]",
      "text/plain": [
       "<Figure size 1200x1200 with 2 Axes>"
      ]
     },
     "metadata": {},
     "output_type": "display_data"
    }
   ],
   "source": [
    "from sklearn.metrics import confusion_matrix, classification_report, accuracy_score\n",
    "import matplotlib.pyplot as plt\n",
    "\n",
    "cnf_matrix1 = confusion_matrix(tfidf_y_test, tfidf_y_pred)\n",
    "plt.figure(figsize=(12,12))\n",
    "plot_confusion_matrix(cnf_matrix1, classes=np.unique(count_y_train), title=\"Confusion matrix\")\n",
    "plt.show()"
   ]
  },
  {
   "cell_type": "code",
   "execution_count": 45,
   "id": "94fadd57",
   "metadata": {},
   "outputs": [],
   "source": [
    "pickle.dump(tfidf_clf_svm, open('SVMCount.sav', 'wb'))"
   ]
  },
  {
   "cell_type": "code",
   "execution_count": 47,
   "id": "d86ad5de",
   "metadata": {},
   "outputs": [],
   "source": [
    "filename2 = 'SVMCount.sav' #load trained model\n",
    "loaded_tfidf_clf_svm = pickle.load(open(filename2, 'rb'))"
   ]
  },
  {
   "cell_type": "code",
   "execution_count": 48,
   "id": "fb9971f6",
   "metadata": {},
   "outputs": [
    {
     "name": "stdout",
     "output_type": "stream",
     "text": [
      "\"negative\" has been predicted for the tweet: We are providing better care, and more choice, at lower cost.\n"
     ]
    }
   ],
   "source": [
    "# predict a label using SVM\n",
    "tweet_vec1 = loaded_count_vectorizer.transform(pd.Series([tweet]))\n",
    "tweet_prediction = loaded_tfidf_clf_svm.predict(tweet_vec1.toarray())\n",
    "tweet_prediction = 'positive' if tweet_prediction[0] == '1' else 'negative'\n",
    "print(f'\"{tweet_prediction}\" has been predicted for the tweet: {tweet}')"
   ]
  },
  {
   "cell_type": "code",
   "execution_count": null,
   "id": "2aaeb8dd",
   "metadata": {},
   "outputs": [],
   "source": []
  },
  {
   "cell_type": "code",
   "execution_count": null,
   "id": "09e9d373",
   "metadata": {},
   "outputs": [],
   "source": []
  }
 ],
 "metadata": {
  "colab": {
   "provenance": []
  },
  "kernelspec": {
   "display_name": "Python 3 (ipykernel)",
   "language": "python",
   "name": "python3"
  },
  "language_info": {
   "codemirror_mode": {
    "name": "ipython",
    "version": 3
   },
   "file_extension": ".py",
   "mimetype": "text/x-python",
   "name": "python",
   "nbconvert_exporter": "python",
   "pygments_lexer": "ipython3",
   "version": "3.10.9"
  }
 },
 "nbformat": 4,
 "nbformat_minor": 5
}
