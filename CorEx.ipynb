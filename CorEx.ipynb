{
 "cells": [
  {
   "cell_type": "code",
   "execution_count": 3,
   "id": "9416e04c",
   "metadata": {},
   "outputs": [
    {
     "name": "stdout",
     "output_type": "stream",
     "text": [
      "WARNING: Anchor word not in word column labels provided to CorEx: none\n"
     ]
    }
   ],
   "source": [
    "#Training semi-supervised Anchored COREX model\n",
    "import numpy as np\n",
    "import scipy.sparse as ss\n",
    "import pickle\n",
    "from corextopic import corextopic as ct\n",
    "from sklearn.feature_extraction.text import CountVectorizer\n",
    "import pandas as pd\n",
    "from ast import literal_eval\n",
    "\n",
    "data_anchored_corex = pd.read_csv(\"Preprocessed_Scraped_reviews.csv\")\n",
    "train_topics = pd.read_csv(\"Training_topics.csv\")\n",
    "df_anchored_corex = pd.DataFrame()\n",
    "\n",
    "data_words_anchored_corex = []\n",
    "for x in data_anchored_corex['Clean']:\n",
    "    data_words_anchored_corex.append(' '.join(literal_eval(x)))\n",
    "keywords = []\n",
    "for x in train_topics['Keys']:\n",
    "    keywords.append(literal_eval(x))\n",
    "\n",
    "vectorizer_anchored_corex = CountVectorizer(stop_words='english', max_features=20000, binary=True)\n",
    "\n",
    "doc_word_anchored_corex = vectorizer_anchored_corex.fit_transform(data_words_anchored_corex)\n",
    "doc_word_anchored_corex = ss.csr_matrix(doc_word_anchored_corex)\n",
    "\n",
    "words = list(np.asarray(vectorizer_anchored_corex.get_feature_names_out()))\n",
    "\n",
    "#Train the CorEx topic model with 6 topics\n",
    "topic_model_anchored_corex = ct.Corex(n_hidden=6, words=words, max_iter=1000, verbose=False, seed=2022)\n",
    "topic_model_anchored_corex.fit(doc_word_anchored_corex, words=words, anchors = keywords, anchor_strength=3);\n",
    "\n",
    "#Save the model and topics\n",
    "pickle.dump(topic_model_anchored_corex, open('CorEx_Train_model_3May23.sav', 'wb'))\n",
    "topic_list_anchored_corex = topic_model_anchored_corex.get_topics()\n",
    "\n",
    "df_anchored_corex['Topics'] = topic_list_anchored_corex\n",
    "df_anchored_corex.to_excel('CorEx_topics_final_3May23.xlsx')"
   ]
  },
  {
   "cell_type": "code",
   "execution_count": 4,
   "id": "f5e5bdeb",
   "metadata": {},
   "outputs": [
    {
     "name": "stdout",
     "output_type": "stream",
     "text": [
      "0: processor, storage, memory, ram, gb, video, web, core, cpu, task\n",
      "1: laptop, great, purchase, product, recommend, happy, wonderful, highly, definitely, good\n",
      "2: size, display, lightweight, keyboard, big, large, type, screen, touchscreen, slim\n",
      "3: work, school, game, gaming, business, software, homework, productivity, schoolwork, play\n",
      "4: great, product, store, wonderful, price, apple, service, value, quality, deal\n",
      "5: battery, life, charge, port, long, hold, usb, fingerprint, hour, print\n"
     ]
    }
   ],
   "source": [
    "# Print all topics from the CorEx topic model\n",
    "anchored_corex_topics = topic_model_anchored_corex.get_topics()\n",
    "for n,topic in enumerate(anchored_corex_topics):\n",
    "    topic_words,_,_ = zip(*topic)\n",
    "    print('{}: '.format(n) + ', '.join(topic_words))"
   ]
  },
  {
   "cell_type": "code",
   "execution_count": 8,
   "id": "7cd80dfb",
   "metadata": {},
   "outputs": [],
   "source": [
    "#label the review with topics\n",
    "import pandas as pd\n",
    "import pickle\n",
    "from ast import literal_eval\n",
    "\n",
    "data = pd.read_csv(\"Preprocessed_Scraped_reviews.csv\")\n",
    "aspect_list = [[],[],[],[],[],[]]\n",
    "words_set = []\n",
    "for x in data['Clean']:\n",
    "    words_set.append(set(literal_eval(x)))\n",
    "\n",
    "model = pickle.load(open(\"CorEx_Train_model_3May23.sav\", 'rb'))\n",
    "topic_list = []\n",
    "for i, topic_words in enumerate(model.get_topics()):\n",
    "  topic_list.append(set([words[0] for words in topic_words if words[1] > 0]))\n",
    "\n",
    "for words in words_set:\n",
    "  for i,topic_words in enumerate(topic_list):\n",
    "      if (words & topic_words):\n",
    "        aspect_list[i].append(1)\n",
    "      else :\n",
    "        aspect_list[i].append(0)\n",
    "for i in range(6):\n",
    "  data['Topic ' + str(i)] = aspect_list[i]\n",
    "data.to_csv('labelled_aspect_3May23.csv')"
   ]
  },
  {
   "cell_type": "code",
   "execution_count": null,
   "id": "ceb32809",
   "metadata": {},
   "outputs": [],
   "source": []
  }
 ],
 "metadata": {
  "kernelspec": {
   "display_name": "Python 3 (ipykernel)",
   "language": "python",
   "name": "python3"
  },
  "language_info": {
   "codemirror_mode": {
    "name": "ipython",
    "version": 3
   },
   "file_extension": ".py",
   "mimetype": "text/x-python",
   "name": "python",
   "nbconvert_exporter": "python",
   "pygments_lexer": "ipython3",
   "version": "3.10.9"
  }
 },
 "nbformat": 4,
 "nbformat_minor": 5
}
